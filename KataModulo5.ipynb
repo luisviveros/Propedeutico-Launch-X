{
 "cells": [
  {
   "cell_type": "markdown",
   "metadata": {},
   "source": [
    "# Utilizar operadores aritméticos"
   ]
  },
  {
   "cell_type": "code",
   "execution_count": 2,
   "metadata": {},
   "outputs": [
    {
     "name": "stdout",
     "output_type": "stream",
     "text": [
      "390810.87413143\n"
     ]
    }
   ],
   "source": [
    "planeta1=149597.870\n",
    "planeta2=778547.200\n",
    "resultado=planeta2 - planeta1\n",
    "conversion_millas=resultado*0.621371\n",
    "print(conversion_millas)"
   ]
  },
  {
   "cell_type": "markdown",
   "metadata": {},
   "source": [
    "# convierte cadenas en números y usa valores absolutos"
   ]
  },
  {
   "cell_type": "code",
   "execution_count": 5,
   "metadata": {},
   "outputs": [
    {
     "name": "stdout",
     "output_type": "stream",
     "text": [
      "854757947.6\n"
     ]
    }
   ],
   "source": [
    "planeta2=input(\"Introduce the distance of the sun for the second plantet in kilometers : \")\n",
    "planeta1=input(\"Introduce the distance of the sun for the first plantet in Kilometers : \")\n",
    "planeta2=int(planeta2)\n",
    "planeta1=int(planeta1)\n",
    "resultado=planeta2 - planeta1\n",
    "conversion_millas=resultado*0.621371\n",
    "print(abs(conversion_millas))"
   ]
  }
 ],
 "metadata": {
  "interpreter": {
   "hash": "eacb160591af1a1a6c09c232338cbf2196294c01957d9d2a41ab6770a31ea15a"
  },
  "kernelspec": {
   "display_name": "Python 3.8.10 64-bit (windows store)",
   "language": "python",
   "name": "python3"
  },
  "language_info": {
   "codemirror_mode": {
    "name": "ipython",
    "version": 3
   },
   "file_extension": ".py",
   "mimetype": "text/x-python",
   "name": "python",
   "nbconvert_exporter": "python",
   "pygments_lexer": "ipython3",
   "version": "3.8.10"
  },
  "orig_nbformat": 4
 },
 "nbformat": 4,
 "nbformat_minor": 2
}
