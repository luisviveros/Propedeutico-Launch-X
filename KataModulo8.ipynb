{
 "cells": [
  {
   "cell_type": "markdown",
   "metadata": {},
   "source": [
    "# Ejercicio 1: Creación de diccionarios de Python"
   ]
  },
  {
   "cell_type": "code",
   "execution_count": 20,
   "metadata": {},
   "outputs": [
    {
     "name": "stdout",
     "output_type": "stream",
     "text": [
      "El nombre del planeta es: Mars\n",
      "Las lunas que tiene el planeta son: 2\n",
      "La circunferencia polar es: 6752\n",
      "La circunferencia equatorial es: 6792\n"
     ]
    }
   ],
   "source": [
    "planet = {\n",
    "    'name': 'Mars',\n",
    "    'moons': 2\n",
    "}\n",
    "planet['polar'] = 6752\n",
    "planet['equatorial'] = 6792\n",
    "\n",
    "# name is now set to Makemake\n",
    "print(f'El nombre del planeta es: {planet[\"name\"]}')\n",
    "print(f'Las lunas que tiene el planeta son: {planet[\"moons\"]}')\n",
    "print(f'La circunferencia polar es: {planet[\"polar\"]}')\n",
    "print(f'La circunferencia equatorial es: {planet[\"equatorial\"] }')\n"
   ]
  },
  {
   "cell_type": "markdown",
   "metadata": {},
   "source": [
    "# Ejercicio 2: Programación dinámica con diccionarios"
   ]
  },
  {
   "cell_type": "code",
   "execution_count": 3,
   "metadata": {},
   "outputs": [
    {
     "name": "stdout",
     "output_type": "stream",
     "text": [
      "El total de lunes es:  0.0\n",
      "El total de lunes es:  0.0\n",
      "El total de lunes es:  0.08333333333333333\n",
      "El total de lunes es:  0.25\n",
      "El total de lunes es:  6.833333333333333\n",
      "El total de lunes es:  13.666666666666666\n",
      "El total de lunes es:  15.916666666666666\n",
      "El total de lunes es:  17.083333333333332\n",
      "El total de lunes es:  17.5\n",
      "El total de lunes es:  17.666666666666668\n",
      "El total de lunes es:  17.75\n",
      "El total de lunes es:  17.833333333333332\n"
     ]
    }
   ],
   "source": [
    "planet_moons = {\n",
    "    'mercury': 0,\n",
    "    'venus': 0,\n",
    "    'earth': 1,\n",
    "    'mars': 2,\n",
    "    'jupiter': 79,\n",
    "    'saturn': 82,\n",
    "    'uranus': 27,\n",
    "    'neptune': 14,\n",
    "    'pluto': 5,\n",
    "    'haumea': 2,\n",
    "    'makemake': 1,\n",
    "    'eris': 1\n",
    "}\n",
    "moons = planet_moons.values()\n",
    "planets = len(planet_moons.keys())\n",
    "total_moons=0\n",
    "\n",
    "for moon in moons:  \n",
    "    total_moons = total_moons + moon\n",
    "    average = total_moons / planets\n",
    "    print(\"El total de lunes es: \", str(average))\n",
    "    "
   ]
  }
 ],
 "metadata": {
  "interpreter": {
   "hash": "eacb160591af1a1a6c09c232338cbf2196294c01957d9d2a41ab6770a31ea15a"
  },
  "kernelspec": {
   "display_name": "Python 3.8.10 64-bit (windows store)",
   "language": "python",
   "name": "python3"
  },
  "language_info": {
   "codemirror_mode": {
    "name": "ipython",
    "version": 3
   },
   "file_extension": ".py",
   "mimetype": "text/x-python",
   "name": "python",
   "nbconvert_exporter": "python",
   "pygments_lexer": "ipython3",
   "version": "3.8.10"
  },
  "orig_nbformat": 4
 },
 "nbformat": 4,
 "nbformat_minor": 2
}
