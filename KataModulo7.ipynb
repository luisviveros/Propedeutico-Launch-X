{
 "cells": [
  {
   "cell_type": "markdown",
   "metadata": {},
   "source": [
    "# Ejercicio 1: Creación de un bucle \"while\""
   ]
  },
  {
   "cell_type": "code",
   "execution_count": 8,
   "metadata": {},
   "outputs": [
    {
     "name": "stdout",
     "output_type": "stream",
     "text": [
      "Los planteas que agregaste son:  [' ', 'Mercurio', 'Tierra', 'Saturno', 'Jupiter', 'Pluton']\n"
     ]
    }
   ],
   "source": [
    "new_planet = ' '\n",
    "planets=[]\n",
    "\n",
    "#ciclo while\n",
    "while new_planet.lower() != 'done':\n",
    "    if new_planet:\n",
    "        planets.append(new_planet)\n",
    "    new_planet = input('Ingresa el planeta que desea o usa la palabra \"done\" para finalizar:  ')\n",
    "print(\"Los planteas que agregaste son: \", planets)"
   ]
  },
  {
   "cell_type": "markdown",
   "metadata": {},
   "source": [
    "# Ejercicio 2: Creación de un ciclo \"for\""
   ]
  },
  {
   "cell_type": "code",
   "execution_count": null,
   "metadata": {},
   "outputs": [],
   "source": [
    "new_planet = ' '\n",
    "planets=[]\n",
    "\n",
    "from time import sleep\n",
    "\n",
    "\n",
    "#ciclo while\n",
    "while new_planet.lower() != 'done':\n",
    "    if new_planet:\n",
    "        planets.append(new_planet)\n",
    "    new_planet = input('Ingresa el planeta que desea o usa la palabra \"done\" para finalizar:  ')\n",
    "    for planet in planets:\n",
    "        print(\"El planeta que agregaste es\", planet)\n",
    "        "
   ]
  }
 ],
 "metadata": {
  "interpreter": {
   "hash": "eacb160591af1a1a6c09c232338cbf2196294c01957d9d2a41ab6770a31ea15a"
  },
  "kernelspec": {
   "display_name": "Python 3.8.10 64-bit (windows store)",
   "language": "python",
   "name": "python3"
  },
  "language_info": {
   "codemirror_mode": {
    "name": "ipython",
    "version": 3
   },
   "file_extension": ".py",
   "mimetype": "text/x-python",
   "name": "python",
   "nbconvert_exporter": "python",
   "pygments_lexer": "ipython3",
   "version": "3.8.10"
  },
  "orig_nbformat": 4
 },
 "nbformat": 4,
 "nbformat_minor": 2
}
