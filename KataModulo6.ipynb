{
 "cells": [
  {
   "cell_type": "markdown",
   "metadata": {},
   "source": [
    "#Crear y usar listas en python"
   ]
  },
  {
   "cell_type": "code",
   "execution_count": 22,
   "metadata": {},
   "outputs": [
    {
     "name": "stdout",
     "output_type": "stream",
     "text": [
      "Los planetas que habitan en el sistema solar son:  ['Mercury', 'Venus', 'Earth', 'Mars', 'Jupiter', 'Saturn', 'Uranus', 'Neptune']\n",
      "El numero de planetas que hay en el sistema solar son:  8\n"
     ]
    }
   ],
   "source": [
    "# Creamos la lista planets y la mostramos\n",
    "planets = ['Mercury', 'Venus', 'Earth', 'Mars', 'Jupiter', 'Saturn', 'Uranus', 'Neptune']\n",
    "print(\"Los planetas que habitan en el sistema solar son: \",str(planets))\n",
    "number_of_planets = len(planets)\n",
    "print(\"El numero de planetas que hay en el sistema solar son: \",str(number_of_planets))\n"
   ]
  },
  {
   "cell_type": "code",
   "execution_count": 25,
   "metadata": {},
   "outputs": [
    {
     "name": "stdout",
     "output_type": "stream",
     "text": [
      "Se agrego un nuevo planeta al sistema solar el cual es:  Pluto\n",
      "El numero de planetas que hay en el sistema solar ahora son:  9\n"
     ]
    }
   ],
   "source": [
    "# Agregamos a plutón y mostramos el último elemento\n",
    "planets = ['Mercury', 'Venus', 'Earth', 'Mars', 'Jupiter', 'Saturn', 'Uranus', 'Neptune']\n",
    "planets.append('Pluto')\n",
    "number_of_planets = len(planets)\n",
    "print(\"Se agrego un nuevo planeta al sistema solar el cual es: \",planets[-1])\n",
    "print(\"El numero de planetas que hay en el sistema solar ahora son: \",str(number_of_planets))"
   ]
  },
  {
   "cell_type": "markdown",
   "metadata": {},
   "source": [
    "#Trabajando con datos de una lista"
   ]
  },
  {
   "cell_type": "code",
   "execution_count": null,
   "metadata": {},
   "outputs": [],
   "source": [
    "# Lista de planetas\n",
    "planets = ['Mercury', 'Venus', 'Earth', 'Mars', 'Jupiter', 'Saturn', 'Neptune']"
   ]
  },
  {
   "cell_type": "code",
   "execution_count": 30,
   "metadata": {},
   "outputs": [
    {
     "name": "stdout",
     "output_type": "stream",
     "text": [
      "La posicion en la que se agrego el nuevo planeta es:  7\n"
     ]
    }
   ],
   "source": [
    "# Solicitamos el nombre de un planeta *Pista:  input()*\n",
    "planets = ['Mercury', 'Venus', 'Earth', 'Mars', 'Jupiter', 'Saturn', 'Neptune']\n",
    "nuevo=input(\"Ingresa el nuevo planeta que deseas agregar (se solicita escribir la primera letra en mayuscula): \")\n",
    "planets.append(nuevo)\n",
    "encontrar = planets.index(nuevo)\n",
    "print(\"La posicion en la que se agrego el nuevo planeta es: \",str(encontrar))\n"
   ]
  },
  {
   "cell_type": "code",
   "execution_count": 34,
   "metadata": {},
   "outputs": [
    {
     "name": "stdout",
     "output_type": "stream",
     "text": [
      "Aqui se muestran los planetas mas cercanos  apluton\n",
      "['Mercury', 'Venus']\n"
     ]
    }
   ],
   "source": [
    "# Muestra los planetas más cercanos al sol\n",
    "planets = ['Mercury', 'Venus', 'Earth', 'Mars', 'Jupiter', 'Saturn', 'Neptune']\n",
    "nuevo=input(\"Ingresa el nuevo planeta que deseas agregar (se solicita escribir la primera letra en mayuscula): \")\n",
    "planets.append(nuevo)\n",
    "encontrar = planets.index(nuevo)\n",
    "print('Aqui se muestran los planetas mas cercanos  a' + nuevo)\n",
    "print(planets[0:2])\n"
   ]
  },
  {
   "cell_type": "code",
   "execution_count": 35,
   "metadata": {},
   "outputs": [
    {
     "name": "stdout",
     "output_type": "stream",
     "text": [
      "Aqui se muestran los planetas mas cercanos  apluton\n",
      "['Saturn', 'Neptune', 'pluton']\n"
     ]
    }
   ],
   "source": [
    "# Muestra los planetas más lejanos al sol\n",
    "planets = ['Mercury', 'Venus', 'Earth', 'Mars', 'Jupiter', 'Saturn', 'Neptune']\n",
    "nuevo=input(\"Ingresa el nuevo planeta que deseas agregar (se solicita escribir la primera letra en mayuscula): \")\n",
    "planets.append(nuevo)\n",
    "encontrar = planets.index(nuevo)\n",
    "print('Aqui se muestran los planetas mas cercanos  a' + nuevo)\n",
    "print(planets[5:]) "
   ]
  }
 ],
 "metadata": {
  "interpreter": {
   "hash": "eacb160591af1a1a6c09c232338cbf2196294c01957d9d2a41ab6770a31ea15a"
  },
  "kernelspec": {
   "display_name": "Python 3.8.10 64-bit (windows store)",
   "language": "python",
   "name": "python3"
  },
  "language_info": {
   "codemirror_mode": {
    "name": "ipython",
    "version": 3
   },
   "file_extension": ".py",
   "mimetype": "text/x-python",
   "name": "python",
   "nbconvert_exporter": "python",
   "pygments_lexer": "ipython3",
   "version": "3.8.10"
  },
  "orig_nbformat": 4
 },
 "nbformat": 4,
 "nbformat_minor": 2
}
